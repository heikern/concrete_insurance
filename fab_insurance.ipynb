{
 "cells": [
  {
   "cell_type": "code",
   "execution_count": 56,
   "metadata": {},
   "outputs": [],
   "source": [
    "from pathlib import Path\n",
    "import pandas as pd\n",
    "import datetime\n",
    "import matplotlib.pyplot as plt\n",
    "import plotly.express as px\n",
    "import plotly.graph_objects as go\n",
    "from sklearn import linear_model\n",
    "from joblib import dump, load"
   ]
  },
  {
   "cell_type": "code",
   "execution_count": 57,
   "metadata": {},
   "outputs": [],
   "source": [
    "get_data = lambda name: pd.read_csv(name).fillna(0)"
   ]
  },
  {
   "cell_type": "code",
   "execution_count": 58,
   "metadata": {},
   "outputs": [
    {
     "data": {
      "text/plain": [
       "PosixPath('/Users/heikernleong/Documents/localFiles/hack_zurich_2022/HackZurichData/CD_data_x_Converge/Converge')"
      ]
     },
     "metadata": {},
     "output_type": "display_data"
    }
   ],
   "source": [
    "curr_dir = Path.cwd()\n",
    "parent_dir = curr_dir.parents[0]\n",
    "data_dir = parent_dir / \"HackZurichData\"\n",
    "converge_data_dir = data_dir / \"CD_data_x_Converge\" / \"Converge\"\n",
    "output_data_dir = parent_dir / \"machine_learning_model\"\n",
    "display(converge_data_dir)"
   ]
  },
  {
   "cell_type": "code",
   "execution_count": 59,
   "metadata": {},
   "outputs": [],
   "source": [
    "sites = [\"site_189\",\"site_190\",\"site_232\",\"site_246\",\"site_247\"]\n",
    "# name_id = \"A1-Level-28\"\n",
    "# ts_dir = converge_data_dir / site / f\"{site}_data\"\n",
    "# mix_design = converge_data_dir / site / f\"{site}_mix_design.csv\"\n",
    "# mix_properties = converge_data_dir / site / f\"{site}_mix_properties.csv\""
   ]
  },
  {
   "cell_type": "code",
   "execution_count": 60,
   "metadata": {},
   "outputs": [],
   "source": [
    "site_dict = {\n",
    "    \"site\" :[],\n",
    "    \"water_cement_ratio\" : [],\n",
    "    \"aggregate_cement_ratio\" : [],\n",
    "    \"carbon_estimate\" : [],\n",
    "    \"strength\" : []\n",
    "}\n",
    "\n",
    "for site in sites:\n",
    "    mix_properties = converge_data_dir / site / f\"{site}_mix_properties.csv\"\n",
    "    mix_props_df = get_data(mix_properties)\n",
    "    site_dict[\"site\"].append(site)\n",
    "    site_dict[\"water_cement_ratio\"].append(mix_props_df.iloc[4][\"value\"])\n",
    "    site_dict[\"aggregate_cement_ratio\"].append(mix_props_df.iloc[5][\"value\"])\n",
    "    site_dict[\"carbon_estimate\"].append(mix_props_df.iloc[6][\"value\"])\n",
    "    site_dict[\"strength\"].append(mix_props_df.iloc[2][\"value\"])"
   ]
  },
  {
   "cell_type": "code",
   "execution_count": 61,
   "metadata": {},
   "outputs": [
    {
     "data": {
      "text/plain": [
       "{'site': ['site_189', 'site_190', 'site_232', 'site_246', 'site_247'],\n",
       " 'water_cement_ratio': ['0.45', '0.35', '0.445', '0.47', '0.455'],\n",
       " 'aggregate_cement_ratio': ['4.36', '4.14', '4.438', '4.71', '4.648'],\n",
       " 'carbon_estimate': ['361.24', '215', '226.94', '245.33', '189.29'],\n",
       " 'strength': ['45', '60', '40', '50', '50']}"
      ]
     },
     "metadata": {},
     "output_type": "display_data"
    },
    {
     "data": {
      "text/html": [
       "<div>\n",
       "<style scoped>\n",
       "    .dataframe tbody tr th:only-of-type {\n",
       "        vertical-align: middle;\n",
       "    }\n",
       "\n",
       "    .dataframe tbody tr th {\n",
       "        vertical-align: top;\n",
       "    }\n",
       "\n",
       "    .dataframe thead th {\n",
       "        text-align: right;\n",
       "    }\n",
       "</style>\n",
       "<table border=\"1\" class=\"dataframe\">\n",
       "  <thead>\n",
       "    <tr style=\"text-align: right;\">\n",
       "      <th></th>\n",
       "      <th>site</th>\n",
       "      <th>water_cement_ratio</th>\n",
       "      <th>aggregate_cement_ratio</th>\n",
       "      <th>carbon_estimate</th>\n",
       "      <th>strength</th>\n",
       "      <th>longitude</th>\n",
       "      <th>latitude</th>\n",
       "    </tr>\n",
       "  </thead>\n",
       "  <tbody>\n",
       "    <tr>\n",
       "      <th>0</th>\n",
       "      <td>site_189</td>\n",
       "      <td>0.45</td>\n",
       "      <td>4.36</td>\n",
       "      <td>361.24</td>\n",
       "      <td>45</td>\n",
       "      <td>35.501778</td>\n",
       "      <td>33.893791</td>\n",
       "    </tr>\n",
       "    <tr>\n",
       "      <th>1</th>\n",
       "      <td>site_190</td>\n",
       "      <td>0.35</td>\n",
       "      <td>4.14</td>\n",
       "      <td>215</td>\n",
       "      <td>60</td>\n",
       "      <td>-0.127758</td>\n",
       "      <td>51.507351</td>\n",
       "    </tr>\n",
       "    <tr>\n",
       "      <th>2</th>\n",
       "      <td>site_232</td>\n",
       "      <td>0.445</td>\n",
       "      <td>4.438</td>\n",
       "      <td>226.94</td>\n",
       "      <td>40</td>\n",
       "      <td>103.819839</td>\n",
       "      <td>1.352083</td>\n",
       "    </tr>\n",
       "    <tr>\n",
       "      <th>3</th>\n",
       "      <td>site_246</td>\n",
       "      <td>0.47</td>\n",
       "      <td>4.71</td>\n",
       "      <td>245.33</td>\n",
       "      <td>50</td>\n",
       "      <td>-120.740135</td>\n",
       "      <td>47.751076</td>\n",
       "    </tr>\n",
       "    <tr>\n",
       "      <th>4</th>\n",
       "      <td>site_247</td>\n",
       "      <td>0.455</td>\n",
       "      <td>4.648</td>\n",
       "      <td>189.29</td>\n",
       "      <td>50</td>\n",
       "      <td>28.047300</td>\n",
       "      <td>26.204100</td>\n",
       "    </tr>\n",
       "  </tbody>\n",
       "</table>\n",
       "</div>"
      ],
      "text/plain": [
       "       site water_cement_ratio aggregate_cement_ratio carbon_estimate  \\\n",
       "0  site_189               0.45                   4.36          361.24   \n",
       "1  site_190               0.35                   4.14             215   \n",
       "2  site_232              0.445                  4.438          226.94   \n",
       "3  site_246               0.47                   4.71          245.33   \n",
       "4  site_247              0.455                  4.648          189.29   \n",
       "\n",
       "  strength   longitude   latitude  \n",
       "0       45   35.501778  33.893791  \n",
       "1       60   -0.127758  51.507351  \n",
       "2       40  103.819839   1.352083  \n",
       "3       50 -120.740135  47.751076  \n",
       "4       50   28.047300  26.204100  "
      ]
     },
     "metadata": {},
     "output_type": "display_data"
    }
   ],
   "source": [
    "display(site_dict)\n",
    "model_df = pd.DataFrame.from_dict(site_dict)\n",
    "model_df[\"longitude\"] = [35.501778,-0.127758,103.819839,-120.740135,28.0473]\n",
    "model_df[\"latitude\"] = [33.893791,51.507351,1.352083,47.751076,26.2041]\n",
    "display(model_df)"
   ]
  },
  {
   "cell_type": "code",
   "execution_count": 62,
   "metadata": {},
   "outputs": [
    {
     "name": "stdout",
     "output_type": "stream",
     "text": [
      "Intercept: \n",
      " -25.84772266232892\n",
      "Coefficients: \n",
      " [-1.72674074e+02  3.09574116e+01  4.64543441e-02  3.51908978e-01]\n"
     ]
    },
    {
     "name": "stderr",
     "output_type": "stream",
     "text": [
      "/usr/local/anaconda3/envs/hackzurich22/lib/python3.10/site-packages/sklearn/base.py:450: UserWarning: X does not have valid feature names, but LinearRegression was fitted with feature names\n",
      "  warnings.warn(\n"
     ]
    },
    {
     "data": {
      "text/plain": [
       "array([60.86911489])"
      ]
     },
     "execution_count": 62,
     "metadata": {},
     "output_type": "execute_result"
    }
   ],
   "source": [
    "y = model_df[\"strength\"]\n",
    "x = model_df[[\"water_cement_ratio\",\"aggregate_cement_ratio\",\"longitude\",\"latitude\"]]\n",
    "regr = linear_model.LinearRegression()\n",
    "regr.fit(x, y)\n",
    "\n",
    "print('Intercept: \\n', regr.intercept_)\n",
    "print('Coefficients: \\n', regr.coef_)\n",
    "\n",
    "regr.predict([[0.35,4.14,30,50]])"
   ]
  },
  {
   "cell_type": "code",
   "execution_count": 63,
   "metadata": {},
   "outputs": [
    {
     "data": {
      "text/plain": [
       "['/Users/heikernleong/Documents/localFiles/hack_zurich_2022/machine_learning_model/model.joblib']"
      ]
     },
     "execution_count": 63,
     "metadata": {},
     "output_type": "execute_result"
    }
   ],
   "source": [
    "model_path = output_data_dir / \"model.joblib\"\n",
    "\n",
    "dump(regr, model_path) "
   ]
  },
  {
   "cell_type": "code",
   "execution_count": 22,
   "metadata": {},
   "outputs": [
    {
     "data": {
      "text/html": [
       "<div>\n",
       "<style scoped>\n",
       "    .dataframe tbody tr th:only-of-type {\n",
       "        vertical-align: middle;\n",
       "    }\n",
       "\n",
       "    .dataframe tbody tr th {\n",
       "        vertical-align: top;\n",
       "    }\n",
       "\n",
       "    .dataframe thead th {\n",
       "        text-align: right;\n",
       "    }\n",
       "</style>\n",
       "<table border=\"1\" class=\"dataframe\">\n",
       "  <thead>\n",
       "    <tr style=\"text-align: right;\">\n",
       "      <th></th>\n",
       "      <th>property_description</th>\n",
       "      <th>value</th>\n",
       "      <th>units_of_measure</th>\n",
       "    </tr>\n",
       "  </thead>\n",
       "  <tbody>\n",
       "    <tr>\n",
       "      <th>0</th>\n",
       "      <td>strength grade</td>\n",
       "      <td>C40/50</td>\n",
       "      <td>0</td>\n",
       "    </tr>\n",
       "    <tr>\n",
       "      <th>1</th>\n",
       "      <td>strength at 28 days (cylinder)</td>\n",
       "      <td>40</td>\n",
       "      <td>MPa</td>\n",
       "    </tr>\n",
       "    <tr>\n",
       "      <th>2</th>\n",
       "      <td>strength at 28 days (cube)</td>\n",
       "      <td>50</td>\n",
       "      <td>MPa</td>\n",
       "    </tr>\n",
       "    <tr>\n",
       "      <th>3</th>\n",
       "      <td>slump class</td>\n",
       "      <td>S4</td>\n",
       "      <td>0</td>\n",
       "    </tr>\n",
       "    <tr>\n",
       "      <th>4</th>\n",
       "      <td>water/cement ratio</td>\n",
       "      <td>0.455</td>\n",
       "      <td>0</td>\n",
       "    </tr>\n",
       "    <tr>\n",
       "      <th>5</th>\n",
       "      <td>aggregate/cement ratio</td>\n",
       "      <td>4.648</td>\n",
       "      <td>0</td>\n",
       "    </tr>\n",
       "    <tr>\n",
       "      <th>6</th>\n",
       "      <td>Embodied carbon estimate</td>\n",
       "      <td>189.29</td>\n",
       "      <td>kg/m3</td>\n",
       "    </tr>\n",
       "  </tbody>\n",
       "</table>\n",
       "</div>"
      ],
      "text/plain": [
       "             property_description   value units_of_measure\n",
       "0                  strength grade  C40/50                0\n",
       "1  strength at 28 days (cylinder)      40              MPa\n",
       "2      strength at 28 days (cube)      50              MPa\n",
       "3                     slump class      S4                0\n",
       "4              water/cement ratio   0.455                0\n",
       "5          aggregate/cement ratio   4.648                0\n",
       "6        Embodied carbon estimate  189.29            kg/m3"
      ]
     },
     "metadata": {},
     "output_type": "display_data"
    }
   ],
   "source": [
    "mix_props = get_data(mix_properties)\n",
    "display(mix_props)"
   ]
  },
  {
   "cell_type": "code",
   "execution_count": null,
   "metadata": {},
   "outputs": [],
   "source": []
  }
 ],
 "metadata": {
  "kernelspec": {
   "display_name": "Python 3.10.4 ('hackzurich22')",
   "language": "python",
   "name": "python3"
  },
  "language_info": {
   "codemirror_mode": {
    "name": "ipython",
    "version": 3
   },
   "file_extension": ".py",
   "mimetype": "text/x-python",
   "name": "python",
   "nbconvert_exporter": "python",
   "pygments_lexer": "ipython3",
   "version": "3.10.4"
  },
  "orig_nbformat": 4,
  "vscode": {
   "interpreter": {
    "hash": "2de4af53bbb62f14842be9e9b2106f06028f844bf162d24e94056d825d2c24cf"
   }
  }
 },
 "nbformat": 4,
 "nbformat_minor": 2
}
